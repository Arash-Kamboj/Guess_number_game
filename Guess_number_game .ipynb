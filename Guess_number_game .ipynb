{
  "nbformat": 4,
  "nbformat_minor": 0,
  "metadata": {
    "colab": {
      "provenance": []
    },
    "kernelspec": {
      "name": "python3",
      "display_name": "Python 3"
    },
    "language_info": {
      "name": "python"
    }
  },
  "cells": [
    {
      "cell_type": "code",
      "execution_count": null,
      "metadata": {
        "colab": {
          "base_uri": "https://localhost:8080/"
        },
        "id": "jSWnmFSbo6TG",
        "outputId": "01a18bd9-3c05-4b0f-c721-b19d6f23a4f5"
      },
      "outputs": [
        {
          "output_type": "stream",
          "name": "stdout",
          "text": [
            "\u001b[1mWelcome to 'The Number Guessing Game!!'\u001b[0m\n",
            "To win the game, guess the number that the computer has choosen in least possible tries\n",
            "Let's test your smartness!!!!\n"
          ]
        }
      ],
      "source": [
        "import random\n",
        "min_num = 1\n",
        "max_num = 100\n",
        "\n",
        "def generate_random_number(min_num, max_num) :\n",
        "  random_number = random.randint(min_num, max_num)\n",
        "  return random_number\n",
        "\n",
        "def check_guess(user_number, target_number):\n",
        "  if user_number > target_number:\n",
        "    return \"Too High\"\n",
        "  elif user_number < target_number:\n",
        "    return 'Too Low'\n",
        "  else:\n",
        "    return \"Correct\"\n",
        "\n",
        "def validate_input(user_number, min_num, max_num) :\n",
        "  if user_number.isdigit() and min_num <= int(user_number) <= max_num :\n",
        "    return True\n",
        "  else :\n",
        "    return False\n",
        "\n",
        "def play_game(target_number, min_num, max_num, attempts=1) :\n",
        "  user_number = input(f'Enter a number between {min_num} and {max_num} ')\n",
        "\n",
        "  if validate_input(user_number, min_num, max_num) == False :\n",
        "    print(\"You need to enter a proper number\")\n",
        "    play_game(target_number, min_num, max_num, attempts)\n",
        "\n",
        "  else :\n",
        "    feedback = check_guess(int(user_number), target_number)\n",
        "\n",
        "    if feedback == 'Correct' :\n",
        "      print(f\"Congratulation!!! you won in {attempts} attempts\")\n",
        "\n",
        "    else :\n",
        "      print(feedback)\n",
        "      play_game(target_number, min_num, max_num, attempts+1)\n",
        "\n",
        "def main() :\n",
        "  print(f\"\\033[1mWelcome to 'The Number Guessing Game!!'\\033[0m\\nTo win the game, guess the number that the computer has choosen in least possible tries\\nLet's test your smartness!!!!\")\n",
        "  target_number = generate_random_number(min_num, max_num)\n",
        "  play_game(target_number, min_num, max_num, attempts=1)\n",
        "main()\n",
        "\n"
      ]
    }
  ]
}
